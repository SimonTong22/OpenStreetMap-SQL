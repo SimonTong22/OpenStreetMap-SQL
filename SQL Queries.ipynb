{
 "cells": [
  {
   "cell_type": "code",
   "execution_count": 2,
   "metadata": {
    "collapsed": true
   },
   "outputs": [],
   "source": [
    "import sqlite3\n",
    "import csv\n",
    "from pprint import pprint"
   ]
  },
  {
   "cell_type": "code",
   "execution_count": 90,
   "metadata": {
    "collapsed": true
   },
   "outputs": [],
   "source": [
    "db = sqlite3.connect(\"sheepshead.db\")\n",
    "c = db.cursor()"
   ]
  },
  {
   "cell_type": "code",
   "execution_count": 98,
   "metadata": {
    "collapsed": false
   },
   "outputs": [],
   "source": [
    "#Create nodes table\n",
    "c.execute('DROP TABLE IF EXISTS nodes')\n",
    "QUERY = '''CREATE TABLE nodes (\n",
    "    id INTEGER PRIMARY KEY NOT NULL,\n",
    "    lat REAL,\n",
    "    lon REAL,\n",
    "    user TEXT,\n",
    "    uid INTEGER,\n",
    "    version INTEGER,\n",
    "    changeset INTEGER,\n",
    "    timestamp TEXT\n",
    ");'''\n",
    "c.execute(QUERY)\n",
    "db.commit()\n",
    "idList = []\n",
    "count = 0\n",
    "with open('nodes.csv','rb') as fin:\n",
    "    dr = csv.DictReader(fin) # comma is default delimiter\n",
    "    #for i in dr:    \n",
    "    to_db = [(i['id'], i['lat'],i['lon'], i['user'].decode(\"utf-8\"), \n",
    "              i['uid'], i['version'], i['changeset'], \n",
    "              i['timestamp']) for i in dr]\n",
    "    '''if i['id'] in idList:\n",
    "        print i['id']\n",
    "    else:\n",
    "        idList.append(i['id'])'''"
   ]
  },
  {
   "cell_type": "code",
   "execution_count": 99,
   "metadata": {
    "collapsed": false
   },
   "outputs": [],
   "source": [
    "# insert the formatted data?\n",
    "c.executemany(\"INSERT INTO nodes(id, lat, lon, user, uid, version, changeset, timestamp) VALUES (?, ?, ?, ?, ?, ?, ?, ?);\", to_db)\n",
    "# commit the changes\n",
    "db.commit()"
   ]
  },
  {
   "cell_type": "code",
   "execution_count": 18,
   "metadata": {
    "collapsed": false
   },
   "outputs": [],
   "source": [
    "#Create nodes_tags table\n",
    "QUERY = '''CREATE TABLE nodes_tags (\n",
    "    id INTEGER,\n",
    "    key TEXT,\n",
    "    value TEXT,\n",
    "    type TEXT,\n",
    "    FOREIGN KEY (id) REFERENCES nodes(id)\n",
    ");'''\n",
    "c.execute(QUERY)\n",
    "db.commit()\n",
    "with open('nodes_tags.csv','rb') as fin:\n",
    "    dr = csv.DictReader(fin) # comma is default delimiter\n",
    "    to_db = [(i['id'].decode(\"utf-8\"), i['key'].decode(\"utf-8\"),i['value'].decode(\"utf-8\"),\n",
    "              i['type'].decode(\"utf-8\")) for i in dr]"
   ]
  },
  {
   "cell_type": "code",
   "execution_count": 19,
   "metadata": {
    "collapsed": true
   },
   "outputs": [],
   "source": [
    "# insert the formatted data?\n",
    "c.executemany(\"INSERT INTO nodes_tags(id, key, value, type) VALUES (?, ?, ?, ?);\", to_db)\n",
    "# commit the changes\n",
    "db.commit()"
   ]
  },
  {
   "cell_type": "code",
   "execution_count": 21,
   "metadata": {
    "collapsed": true
   },
   "outputs": [],
   "source": [
    "#Create ways table\n",
    "QUERY = '''CREATE TABLE ways (\n",
    "    id INTEGER PRIMARY KEY NOT NULL,\n",
    "    user TEXT,\n",
    "    uid INTEGER,\n",
    "    version TEXT,\n",
    "    changeset INTEGER,\n",
    "    timestamp TEXT\n",
    ");'''\n",
    "c.execute(QUERY)\n",
    "db.commit()\n",
    "with open('ways.csv','rb') as fin:\n",
    "    dr = csv.DictReader(fin) # comma is default delimiter\n",
    "    to_db = [(i['id'].decode(\"utf-8\"), i['user'].decode(\"utf-8\"),i['uid'].decode(\"utf-8\"),\n",
    "              i['version'].decode(\"utf-8\"),i['changeset'].decode(\"utf-8\"),i['timestamp'].decode(\"utf-8\")) for i in dr]"
   ]
  },
  {
   "cell_type": "code",
   "execution_count": 22,
   "metadata": {
    "collapsed": true
   },
   "outputs": [],
   "source": [
    "# insert the formatted data?\n",
    "c.executemany(\"INSERT INTO ways(id, user, uid, version, changeset, timestamp) VALUES (?, ?, ?, ?, ?, ?);\", to_db)\n",
    "# commit the changes\n",
    "db.commit()"
   ]
  },
  {
   "cell_type": "code",
   "execution_count": 24,
   "metadata": {
    "collapsed": true
   },
   "outputs": [],
   "source": [
    "#Create ways_tags table\n",
    "QUERY = '''CREATE TABLE ways_tags (\n",
    "    id INTEGER NOT NULL,\n",
    "    key TEXT NOT NULL,\n",
    "    value TEXT NOT NULL,\n",
    "    type TEXT,\n",
    "    FOREIGN KEY (id) REFERENCES ways(id)\n",
    ");'''\n",
    "c.execute(QUERY)\n",
    "db.commit()\n",
    "with open('ways_tags.csv','rb') as fin:\n",
    "    dr = csv.DictReader(fin) # comma is default delimiter\n",
    "    to_db = [(i['id'].decode(\"utf-8\"), i['key'].decode(\"utf-8\"),i['value'].decode(\"utf-8\"),\n",
    "              i['type'].decode(\"utf-8\")) for i in dr]"
   ]
  },
  {
   "cell_type": "code",
   "execution_count": 25,
   "metadata": {
    "collapsed": true
   },
   "outputs": [],
   "source": [
    "# insert the formatted data?\n",
    "c.executemany(\"INSERT INTO ways_tags(id, key, value, type) VALUES (?, ?, ?, ?);\", to_db)\n",
    "# commit the changes\n",
    "db.commit()"
   ]
  },
  {
   "cell_type": "code",
   "execution_count": 27,
   "metadata": {
    "collapsed": true
   },
   "outputs": [],
   "source": [
    "#Create ways_nodes table\n",
    "QUERY = '''CREATE TABLE ways_nodes (\n",
    "    id INTEGER NOT NULL,\n",
    "    node_id INTEGER NOT NULL,\n",
    "    position INTEGER NOT NULL,\n",
    "    FOREIGN KEY (id) REFERENCES ways(id),\n",
    "    FOREIGN KEY (node_id) REFERENCES nodes(id)\n",
    ");'''\n",
    "c.execute(QUERY)\n",
    "db.commit()\n",
    "with open('ways_nodes.csv','rb') as fin:\n",
    "    dr = csv.DictReader(fin) # comma is default delimiter\n",
    "    to_db = [(i['id'].decode(\"utf-8\"), i['node_id'].decode(\"utf-8\"),i['position'].decode(\"utf-8\")) for i in dr]"
   ]
  },
  {
   "cell_type": "code",
   "execution_count": 28,
   "metadata": {
    "collapsed": true
   },
   "outputs": [],
   "source": [
    "# insert the formatted data?\n",
    "c.executemany(\"INSERT INTO ways_nodes(id, node_id, position) VALUES (?, ?, ?);\", to_db)\n",
    "# commit the changes\n",
    "db.commit()"
   ]
  },
  {
   "cell_type": "code",
   "execution_count": 100,
   "metadata": {
    "collapsed": false
   },
   "outputs": [
    {
     "name": "stdout",
     "output_type": "stream",
     "text": [
      "[(233024,)]\n"
     ]
    }
   ],
   "source": [
    "#Number of nodes\n",
    "QUERY = \"SELECT count(*) FROM nodes;\"\n",
    "c.execute(QUERY)\n",
    "rows = c.fetchall()\n",
    "pprint(rows)"
   ]
  },
  {
   "cell_type": "code",
   "execution_count": 103,
   "metadata": {
    "collapsed": false
   },
   "outputs": [
    {
     "name": "stdout",
     "output_type": "stream",
     "text": [
      "[(16381,)]\n"
     ]
    }
   ],
   "source": [
    "#Number of nodes_tags\n",
    "QUERY = \"SELECT count(*) FROM nodes_tags;\"\n",
    "c.execute(QUERY)\n",
    "rows = c.fetchall()\n",
    "pprint(rows)"
   ]
  },
  {
   "cell_type": "code",
   "execution_count": 104,
   "metadata": {
    "collapsed": false
   },
   "outputs": [
    {
     "name": "stdout",
     "output_type": "stream",
     "text": [
      "[(248458,)]\n"
     ]
    }
   ],
   "source": [
    "#Number of ways_tags\n",
    "QUERY = \"SELECT count(*) FROM ways_tags;\"\n",
    "c.execute(QUERY)\n",
    "rows = c.fetchall()\n",
    "pprint(rows)"
   ]
  },
  {
   "cell_type": "code",
   "execution_count": 105,
   "metadata": {
    "collapsed": false
   },
   "outputs": [
    {
     "name": "stdout",
     "output_type": "stream",
     "text": [
      "[(48981,)]\n"
     ]
    }
   ],
   "source": [
    "#Number of ways\n",
    "QUERY = \"SELECT count(*) FROM ways;\"\n",
    "c.execute(QUERY)\n",
    "rows = c.fetchall()\n",
    "pprint(rows)"
   ]
  },
  {
   "cell_type": "code",
   "execution_count": 106,
   "metadata": {
    "collapsed": false
   },
   "outputs": [
    {
     "name": "stdout",
     "output_type": "stream",
     "text": [
      "[(317939,)]\n"
     ]
    }
   ],
   "source": [
    "#Number of ways_nodes\n",
    "QUERY = \"SELECT count(*) FROM ways_nodes;\"\n",
    "c.execute(QUERY)\n",
    "rows = c.fetchall()\n",
    "pprint(rows)"
   ]
  },
  {
   "cell_type": "code",
   "execution_count": 115,
   "metadata": {
    "collapsed": false
   },
   "outputs": [
    {
     "name": "stdout",
     "output_type": "stream",
     "text": [
      "[(129,)]\n"
     ]
    }
   ],
   "source": [
    "#Number of unique users\n",
    "QUERY = \"SELECT count(DISTINCT(uid)) from (select uid FROM ways union all select DISTINCT uid from nodes);\"\n",
    "c.execute(QUERY)\n",
    "users = c.fetchall()\n",
    "pprint(users)"
   ]
  },
  {
   "cell_type": "code",
   "execution_count": 114,
   "metadata": {
    "collapsed": false
   },
   "outputs": [
    {
     "name": "stdout",
     "output_type": "stream",
     "text": [
      "[(u'Rub21_nycbuildings', 244623),\n",
      " (u'ingalls', 15758),\n",
      " (u'celosia_nycbuildings', 4501),\n",
      " (u'ingalls_nycbuildings', 3339),\n",
      " (u'aaron_nycbuildings', 2434),\n",
      " (u'watame', 1782),\n",
      " (u'ediyes_nycbuildings', 1552),\n",
      " (u'rjhale1971', 1255),\n",
      " (u'woodpeck_fixbot', 1011),\n",
      " (u'MxxCon', 884)]\n"
     ]
    }
   ],
   "source": [
    "#Top ten users\n",
    "QUERY = '''SELECT user, COUNT(*) as num\n",
    "FROM (SELECT user FROM nodes UNION ALL SELECT user FROM ways)\n",
    "GROUP BY user\n",
    "ORDER BY num DESC\n",
    "LIMIT 10;'''\n",
    "c.execute(QUERY)\n",
    "topusers = c.fetchall()\n",
    "pprint(topusers)"
   ]
  },
  {
   "cell_type": "code",
   "execution_count": 121,
   "metadata": {
    "collapsed": false
   },
   "outputs": [
    {
     "name": "stdout",
     "output_type": "stream",
     "text": [
      "[(u'parking', 135),\n",
      " (u'school', 63),\n",
      " (u'bench', 59),\n",
      " (u'place_of_worship', 57),\n",
      " (u'bicycle_parking', 34),\n",
      " (u'bank', 14),\n",
      " (u'fire_station', 11),\n",
      " (u'fuel', 10),\n",
      " (u'pharmacy', 10),\n",
      " (u'restaurant', 7)]\n"
     ]
    }
   ],
   "source": [
    "#Amenities\n",
    "QUERY = '''SELECT value, COUNT(*) as num\n",
    "FROM (SELECT value,key FROM nodes_tags UNION ALL SELECT value,key FROM ways_tags)\n",
    "WHERE key='amenity'\n",
    "GROUP BY value\n",
    "ORDER BY num DESC\n",
    "LIMIT 10;'''\n",
    "c.execute(QUERY)\n",
    "amenity = c.fetchall()\n",
    "pprint(amenity)"
   ]
  },
  {
   "cell_type": "code",
   "execution_count": 162,
   "metadata": {
    "collapsed": false
   },
   "outputs": [
    {
     "name": "stdout",
     "output_type": "stream",
     "text": [
      "[(u'jewish', 35)]\n"
     ]
    }
   ],
   "source": [
    "#Top religion for place of worship\n",
    "QUERY = '''SELECT l.value, l.count1 +l.count2 as num\n",
    "from ((SELECT nodes_tags.value, COUNT(*) as count1\n",
    "FROM nodes_tags \n",
    "    JOIN (SELECT DISTINCT(id) FROM nodes_tags WHERE value='place_of_worship') as i\n",
    "    ON nodes_tags.id=i.id\n",
    "WHERE nodes_tags.key='religion'\n",
    "GROUP BY nodes_tags.value) as j \n",
    "JOIN (SELECT ways_tags.value, COUNT(*) as count2\n",
    "FROM ways_tags \n",
    "    JOIN (SELECT DISTINCT(id) FROM ways_tags WHERE value='place_of_worship') as k\n",
    "    ON ways_tags.id=k.id\n",
    "WHERE ways_tags.key='religion'\n",
    "GROUP BY ways_tags.value) as m \n",
    "on j.value = m.value) as l\n",
    "group by l.value\n",
    "order by num desc\n",
    "limit 1;\n",
    "'''\n",
    "c.execute(QUERY)\n",
    "religion = c.fetchall()\n",
    "pprint(religion)\n"
   ]
  },
  {
   "cell_type": "code",
   "execution_count": 167,
   "metadata": {
    "collapsed": false
   },
   "outputs": [
    {
     "name": "stdout",
     "output_type": "stream",
     "text": [
      "[(u'East 28th Street', 755),\n",
      " (u'East 26th Street', 751),\n",
      " (u'East 29th Street', 715),\n",
      " (u'Bedford Avenue', 674),\n",
      " (u'East 27th Street', 648),\n",
      " (u'East 23rd Street', 626),\n",
      " (u'East 21st Street', 612),\n",
      " (u'East 22nd Street', 600),\n",
      " (u'Coney Island Avenue', 593),\n",
      " (u'East 15th Street', 585)]\n"
     ]
    }
   ],
   "source": [
    "#Streets with most data\n",
    "QUERY = '''SELECT value, COUNT(*) as num\n",
    "FROM (SELECT value,key FROM nodes_tags UNION ALL SELECT value,key FROM ways_tags)\n",
    "WHERE key='street'\n",
    "GROUP BY value\n",
    "ORDER BY num DESC\n",
    "LIMIT 10;'''\n",
    "c.execute(QUERY)\n",
    "street = c.fetchall()\n",
    "pprint(street)"
   ]
  },
  {
   "cell_type": "code",
   "execution_count": 171,
   "metadata": {
    "collapsed": false
   },
   "outputs": [
    {
     "name": "stdout",
     "output_type": "stream",
     "text": [
      "[(7.240978514108155,)]\n"
     ]
    }
   ],
   "source": [
    "#Average height of building\n",
    "QUERY = '''SELECT (sum(value)/COUNT(*)) as num\n",
    "FROM (SELECT value,key FROM nodes_tags UNION ALL SELECT value,key FROM ways_tags)\n",
    "WHERE key='height';'''\n",
    "c.execute(QUERY)\n",
    "height = c.fetchall()\n",
    "pprint(height)"
   ]
  },
  {
   "cell_type": "code",
   "execution_count": null,
   "metadata": {
    "collapsed": true
   },
   "outputs": [],
   "source": []
  }
 ],
 "metadata": {
  "anaconda-cloud": {},
  "kernelspec": {
   "display_name": "Python [Root]",
   "language": "python",
   "name": "Python [Root]"
  },
  "language_info": {
   "codemirror_mode": {
    "name": "ipython",
    "version": 2
   },
   "file_extension": ".py",
   "mimetype": "text/x-python",
   "name": "python",
   "nbconvert_exporter": "python",
   "pygments_lexer": "ipython2",
   "version": "2.7.12"
  }
 },
 "nbformat": 4,
 "nbformat_minor": 0
}
